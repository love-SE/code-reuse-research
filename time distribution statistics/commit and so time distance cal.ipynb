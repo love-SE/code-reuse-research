{
 "cells": [
  {
   "cell_type": "code",
   "execution_count": 1,
   "outputs": [],
   "source": [
    "from datetime import datetime\n",
    "import time\n",
    "import os\n",
    "from tqdm import tqdm\n",
    "import pandas as pd\n",
    "import matplotlib.pyplot as plt"
   ],
   "metadata": {
    "collapsed": false,
    "pycharm": {
     "name": "#%%\n"
    }
   }
  },
  {
   "cell_type": "code",
   "execution_count": 3,
   "outputs": [
    {
     "name": "stdout",
     "output_type": "stream",
     "text": [
      "prj num793\n",
      "666\n"
     ]
    }
   ],
   "source": [
    "with open('./Type_names.txt') as f:\n",
    "    projects = f.readlines()\n",
    "    projects = [i.rstrip() for i in projects]\n",
    "print('prj num{}'.format(len(projects)))\n",
    "# projects = ['\\\\AarogyaSetu']\n"
   ],
   "metadata": {
    "collapsed": false,
    "pycharm": {
     "name": "#%%\n"
    }
   }
  },
  {
   "cell_type": "code",
   "execution_count": 5,
   "outputs": [
    {
     "name": "stderr",
     "output_type": "stream",
     "text": [
      "  0%|          | 0/793 [00:00<?, ?it/s]\n"
     ]
    },
    {
     "ename": "FileNotFoundError",
     "evalue": "[Errno 2] No such file or directory: 'F:\\\\CCFinder\\\\NewData\\\\99-problems\\\\0\\\\11.java'",
     "output_type": "error",
     "traceback": [
      "\u001B[1;31m---------------------------------------------------------------------------\u001B[0m",
      "\u001B[1;31mFileNotFoundError\u001B[0m                         Traceback (most recent call last)",
      "\u001B[1;32m~\\AppData\\Local\\Temp/ipykernel_4592/4282115663.py\u001B[0m in \u001B[0;36m<module>\u001B[1;34m\u001B[0m\n\u001B[0;32m     59\u001B[0m                 \u001B[0mfileName\u001B[0m\u001B[1;33m.\u001B[0m\u001B[0mappend\u001B[0m\u001B[1;33m(\u001B[0m\u001B[0mlistName\u001B[0m\u001B[1;33m[\u001B[0m\u001B[1;36m1\u001B[0m\u001B[1;33m]\u001B[0m\u001B[1;33m)\u001B[0m\u001B[1;33m\u001B[0m\u001B[1;33m\u001B[0m\u001B[0m\n\u001B[0;32m     60\u001B[0m                 \u001B[1;32mif\u001B[0m \u001B[1;34m\"NewData\"\u001B[0m \u001B[1;32min\u001B[0m \u001B[0mlistName\u001B[0m\u001B[1;33m[\u001B[0m\u001B[1;36m1\u001B[0m\u001B[1;33m]\u001B[0m\u001B[1;33m:\u001B[0m\u001B[1;33m\u001B[0m\u001B[1;33m\u001B[0m\u001B[0m\n\u001B[1;32m---> 61\u001B[1;33m                     \u001B[0mfile1\u001B[0m \u001B[1;33m=\u001B[0m \u001B[0mopen\u001B[0m\u001B[1;33m(\u001B[0m\u001B[0mlistName\u001B[0m\u001B[1;33m[\u001B[0m\u001B[1;36m1\u001B[0m\u001B[1;33m]\u001B[0m\u001B[1;33m,\u001B[0m\u001B[1;34m'r'\u001B[0m\u001B[1;33m,\u001B[0m \u001B[0mencoding\u001B[0m\u001B[1;33m=\u001B[0m\u001B[1;34m'UTF-8'\u001B[0m\u001B[1;33m)\u001B[0m\u001B[1;33m\u001B[0m\u001B[1;33m\u001B[0m\u001B[0m\n\u001B[0m\u001B[0;32m     62\u001B[0m                     \u001B[0mfile1\u001B[0m\u001B[1;33m.\u001B[0m\u001B[0mclose\u001B[0m\u001B[1;33m(\u001B[0m\u001B[1;33m)\u001B[0m\u001B[1;33m\u001B[0m\u001B[1;33m\u001B[0m\u001B[0m\n\u001B[0;32m     63\u001B[0m \u001B[1;33m\u001B[0m\u001B[0m\n",
      "\u001B[1;31mFileNotFoundError\u001B[0m: [Errno 2] No such file or directory: 'F:\\\\CCFinder\\\\NewData\\\\99-problems\\\\0\\\\11.java'"
     ]
    }
   ],
   "source": [
    "if os.path.isfile(r\"./time diff statistics.txt\"):\n",
    "    os.remove(r\"./time diff statistics.txt\")\n",
    "\n",
    "\n",
    "for project in tqdm(projects):\n",
    "\n",
    "\n",
    "    fileName = []\n",
    "    clonePairs = []\n",
    "\n",
    "\n",
    "    creationStr = \"//CreationDate = \"\n",
    "\n",
    "    def readSO(fileInfo):\n",
    "        sp1 = fileInfo.split('.')\n",
    "        fileIndex = int(sp1[0]) - 1\n",
    "\n",
    "        file_name = fileName[fileIndex]\n",
    "\n",
    "\n",
    "        if 'xxx' in file_name:\n",
    "            file_name = file_name.replace('xxx\\\\wt', 'CCFinder')\n",
    "        SOfile = open(file_name,'r', encoding='UTF-8')\n",
    "        for line in SOfile:\n",
    "            if creationStr in line:\n",
    "                return line[17:27]\n",
    "        return \"2008-01-01\"\n",
    "\n",
    "    def readCommit(fileInfo):\n",
    "        sp1 = fileInfo.split('.')\n",
    "        fileIndex = int(sp1[0]) - 1\n",
    "        SOfile = open(fileName[fileIndex],'r', encoding='UTF-8')\n",
    "        line = SOfile.readline()\n",
    "        line1 = SOfile.readline()\n",
    "        line1 = SOfile.readline()\n",
    "        SOfile.close()\n",
    "        pretime = line[12:]\n",
    "        time = datetime.strptime(pretime, '%a %b %d %H:%M:%S CST %Y\\n').strftime('%Y-%m-%d')\n",
    "\n",
    "        return time,fileName[fileIndex]\n",
    "\n",
    "\n",
    "\n",
    "\n",
    "\n",
    "    file = open(r\"D:\\CCFinder\\NewAns\" + '\\\\' + project + \".txt\")\n",
    "\n",
    "    while 1:\n",
    "        line = file.readline()\n",
    "        if not line:\n",
    "            break\n",
    "\n",
    "        if line == 'source_files {\\n':\n",
    "            while 1:\n",
    "                fileLine = file.readline()\n",
    "                if fileLine == '}\\n':\n",
    "                    break\n",
    "                listName = fileLine.split('\\t')\n",
    "                fileName.append(listName[1])\n",
    "                if \"NewData\" in listName[1]:\n",
    "                    file1 = open(listName[1],'r', encoding='UTF-8')\n",
    "                    file1.close()\n",
    "\n",
    "        if line == 'clone_pairs {\\n':\n",
    "            while 1:\n",
    "                PairsLine = file.readline()\n",
    "                if PairsLine == '}\\n':\n",
    "                    break\n",
    "                clonePairs.append(PairsLine)\n",
    "    file.close()\n",
    "\n",
    "    for i in range(len(clonePairs)//2):\n",
    "\n",
    "        listPair = clonePairs[i].split('\\t')\n",
    "\n",
    "\n",
    "        time1 = readSO(listPair[1])\n",
    "        time2,Commitfile = readCommit(listPair[2])\n",
    "\n",
    "        if(time1 < time2):\n",
    "\n",
    "            Output = open(r\"./time diff statistics.txt\",'a+')\n",
    "            Output.write(str(Commitfile))\n",
    "            Output.write('\\t')\n",
    "            Output.write(str(time2))\n",
    "            Output.write('\\t')\n",
    "            Output.write(str(time1))\n",
    "            Output.write('\\t')\n",
    "            Output.write('\\n')\n",
    "            Output.close()\n"
   ],
   "metadata": {
    "collapsed": false,
    "pycharm": {
     "name": "#%%\n"
    }
   }
  },
  {
   "cell_type": "code",
   "execution_count": null,
   "outputs": [],
   "source": [
    "df = pd.read_csv('./time diff statistics.txt',sep='\\t',index_col=0)\n",
    "df.info()\n"
   ],
   "metadata": {
    "collapsed": false,
    "pycharm": {
     "name": "#%%\n"
    }
   }
  },
  {
   "cell_type": "code",
   "execution_count": null,
   "outputs": [],
   "source": [
    "time_df = pd.DataFrame({'commit':df['commit'].index, 'commit time':df['commit'], 'so time':df['commit time']})\n",
    "time_df.to_csv('./time diff statistics.txt',sep='\\t')\n",
    "\n",
    "\n",
    "\n",
    "\n"
   ],
   "metadata": {
    "collapsed": false,
    "pycharm": {
     "name": "#%%\n"
    }
   }
  }
 ],
 "metadata": {
  "kernelspec": {
   "display_name": "Python 3",
   "language": "python",
   "name": "python3"
  },
  "language_info": {
   "codemirror_mode": {
    "name": "ipython",
    "version": 2
   },
   "file_extension": ".py",
   "mimetype": "text/x-python",
   "name": "python",
   "nbconvert_exporter": "python",
   "pygments_lexer": "ipython2",
   "version": "2.7.6"
  }
 },
 "nbformat": 4,
 "nbformat_minor": 0
}