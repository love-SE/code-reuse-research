{
 "cells": [
  {
   "cell_type": "code",
   "execution_count": 2,
   "outputs": [],
   "source": [
    "from datetime import datetime\n",
    "import time\n",
    "import os\n",
    "from tqdm import tqdm\n",
    "import pandas as pd"
   ],
   "metadata": {
    "collapsed": false,
    "pycharm": {
     "name": "#%%\n"
    }
   }
  },
  {
   "cell_type": "code",
   "execution_count": 3,
   "outputs": [
    {
     "name": "stdout",
     "output_type": "stream",
     "text": [
      "<class 'pandas.core.frame.DataFrame'>\n",
      "RangeIndex: 342148 entries, 0 to 342147\n",
      "Data columns (total 6 columns):\n",
      " #   Column                 Non-Null Count   Dtype \n",
      "---  ------                 --------------   ----- \n",
      " 0   ccfinder code snippet  342148 non-null  object\n",
      " 1   origin prj commit      342148 non-null  object\n",
      " 2   bug related            342148 non-null  bool  \n",
      " 3   hit so nums            342148 non-null  int64 \n",
      " 4   commiter               342140 non-null  object\n",
      " 5   prj                    342148 non-null  object\n",
      "dtypes: bool(1), int64(1), object(4)\n",
      "memory usage: 13.4+ MB\n"
     ]
    }
   ],
   "source": [
    "df = pd.read_csv('./all_commit_info.csv',encoding='gbk')\n",
    "df.info()\n",
    "\n"
   ],
   "metadata": {
    "collapsed": false,
    "pycharm": {
     "name": "#%%\n"
    }
   }
  },
  {
   "cell_type": "code",
   "execution_count": 4,
   "outputs": [],
   "source": [
    "def return_change_type(x):\n",
    "    with open(x,'r', encoding='UTF-8') as f:\n",
    "            line1 = f.readline()\n",
    "            line1 = f.readline()\n",
    "            line1 = f.readline()\n",
    "\n",
    "            if \"ADD\" in line1 or \"INSERT\" in line1:\n",
    "                return 'ADD'\n",
    "            if \"DELETE\" in line1 or \"REMOVED\" in line1 or 'REMOVING' in line1 or 'MOVE' in line1:\n",
    "                return 'DELETE'\n",
    "            if \"UPDATE\" in line1 or 'CHANGE' in line1 or 'RENAMING' in line1:\n",
    "                return 'UPDATE'"
   ],
   "metadata": {
    "collapsed": false,
    "pycharm": {
     "name": "#%%\n"
    }
   }
  },
  {
   "cell_type": "code",
   "execution_count": 7,
   "outputs": [],
   "source": [
    "df['change type'] = df['ccfinder code snippet'].apply(lambda x: return_change_type(x))"
   ],
   "metadata": {
    "collapsed": false,
    "pycharm": {
     "name": "#%%\n"
    }
   }
  },
  {
   "cell_type": "code",
   "execution_count": null,
   "outputs": [],
   "source": [
    "df.to_csv('./all_commit_info.csv')"
   ],
   "metadata": {
    "collapsed": false,
    "pycharm": {
     "name": "#%%\n"
    }
   }
  },
  {
   "cell_type": "code",
   "execution_count": 39,
   "outputs": [],
   "source": [
    "df = df[df['change type']!='DELETE']\n",
    "df.to_csv('./all_commit_info(filter delete).csv')\n"
   ],
   "metadata": {
    "collapsed": false,
    "pycharm": {
     "name": "#%%\n"
    }
   }
  },
  {
   "cell_type": "code",
   "execution_count": 1,
   "outputs": [],
   "source": [],
   "metadata": {
    "collapsed": false,
    "pycharm": {
     "name": "#%%\n"
    }
   }
  }
 ],
 "metadata": {
  "kernelspec": {
   "display_name": "Python 3",
   "language": "python",
   "name": "python3"
  },
  "language_info": {
   "codemirror_mode": {
    "name": "ipython",
    "version": 2
   },
   "file_extension": ".py",
   "mimetype": "text/x-python",
   "name": "python",
   "nbconvert_exporter": "python",
   "pygments_lexer": "ipython2",
   "version": "2.7.6"
  }
 },
 "nbformat": 4,
 "nbformat_minor": 0
}