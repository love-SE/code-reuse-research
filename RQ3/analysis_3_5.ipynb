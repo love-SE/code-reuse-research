{
 "cells": [
  {
   "cell_type": "code",
   "execution_count": 5,
   "metadata": {
    "collapsed": true
   },
   "outputs": [],
   "source": [
    "import pandas as pd\n",
    "from datetime import datetime\n",
    "import time\n",
    "import os\n",
    "from tqdm import tqdm\n",
    "import pandas as pd\n"
   ]
  },
  {
   "cell_type": "code",
   "execution_count": 1,
   "outputs": [],
   "source": [
    "df = pd.read_csv('./all_commit_info.csv',encoding='gbk')\n",
    "print(df.info())"
   ],
   "metadata": {
    "collapsed": false,
    "pycharm": {
     "name": "#%%\n"
    }
   }
  },
  {
   "cell_type": "code",
   "execution_count": 7,
   "outputs": [],
   "source": [
    "group = df.groupby('bug related')\n",
    "bug_df = group.get_group(True)\n",
    "nobug_df = group.get_group(False)"
   ],
   "metadata": {
    "collapsed": false,
    "pycharm": {
     "name": "#%%\n"
    }
   }
  },
  {
   "cell_type": "code",
   "execution_count": 8,
   "outputs": [
    {
     "name": "stdout",
     "output_type": "stream",
     "text": [
      "46805 236418 283223\n",
      "43683 3122 220847 15571\n"
     ]
    }
   ],
   "source": [
    "bug_commit_hitSO_nums = 0\n",
    "nums_bug_nohit = (bug_df['hit so nums']==0).sum()\n",
    "nums_bug_hit = (bug_df['hit so nums']!=0).sum()\n",
    "\n",
    "nums_nobug_nohit = (nobug_df['hit so nums']==0).sum()\n",
    "nums_nobug_hit = (nobug_df['hit so nums']!=0).sum()\n",
    "\n",
    "print(len(bug_df), len(nobug_df), len(bug_df)+len(nobug_df))\n",
    "print(nums_bug_nohit,nums_bug_hit,nums_nobug_nohit,nums_nobug_hit)"
   ],
   "metadata": {
    "collapsed": false,
    "pycharm": {
     "name": "#%%\n"
    }
   }
  },
  {
   "cell_type": "code",
   "execution_count": 9,
   "outputs": [],
   "source": [
    "bug_hit_so_rate = round(nums_bug_hit/len(bug_df)*100,2)\n",
    "nobug_hit_so_rate = round(nums_nobug_hit/len(nobug_df)*100,2)"
   ],
   "metadata": {
    "collapsed": false,
    "pycharm": {
     "name": "#%%\n"
    }
   }
  },
  {
   "cell_type": "code",
   "execution_count": 2,
   "outputs": [],
   "source": [
    "print('bug: %.2f'%bug_hit_so_rate,'%')\n",
    "print('non-bug: %.2f'%nobug_hit_so_rate,'%')\n",
    "\n",
    "\n",
    "\n"
   ],
   "metadata": {
    "collapsed": false,
    "pycharm": {
     "name": "#%%\n"
    }
   }
  }
 ],
 "metadata": {
  "kernelspec": {
   "display_name": "Python 3",
   "language": "python",
   "name": "python3"
  },
  "language_info": {
   "codemirror_mode": {
    "name": "ipython",
    "version": 2
   },
   "file_extension": ".py",
   "mimetype": "text/x-python",
   "name": "python",
   "nbconvert_exporter": "python",
   "pygments_lexer": "ipython2",
   "version": "2.7.6"
  }
 },
 "nbformat": 4,
 "nbformat_minor": 0
}