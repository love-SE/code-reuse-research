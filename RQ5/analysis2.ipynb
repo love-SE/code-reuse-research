{
 "cells": [
  {
   "cell_type": "code",
   "execution_count": 1,
   "metadata": {
    "collapsed": true
   },
   "outputs": [],
   "source": [
    "from datetime import datetime\n",
    "import time\n",
    "import os\n",
    "from tqdm import tqdm\n",
    "import pandas as pd\n",
    "\n"
   ]
  },
  {
   "cell_type": "code",
   "execution_count": 2,
   "outputs": [
    {
     "name": "stdout",
     "output_type": "stream",
     "text": [
      "<class 'pandas.core.frame.DataFrame'>\n",
      "RangeIndex: 134302 entries, 0 to 134301\n",
      "Data columns (total 4 columns):\n",
      " #   Column      Non-Null Count   Dtype \n",
      "---  ------      --------------   ----- \n",
      " 0   Unnamed: 0  134302 non-null  int64 \n",
      " 1   so_file     134302 non-null  object\n",
      " 2   nums        134302 non-null  int64 \n",
      " 3   涉及的项目       134302 non-null  object\n",
      "dtypes: int64(2), object(2)\n",
      "memory usage: 4.1+ MB\n"
     ]
    },
    {
     "data": {
      "text/plain": "   Unnamed: 0                                          so_file  nums  \\\n0           0  F:\\CCFinder\\CodeData\\code_1225.java#21837-21866     2   \n1           1  F:\\CCFinder\\CodeData\\code_1376.java#34824-34850     1   \n\n                    涉及的项目  \n0  ['APIJSON', 'APIJSON']  \n1             ['APIJSON']  ",
      "text/html": "<div>\n<style scoped>\n    .dataframe tbody tr th:only-of-type {\n        vertical-align: middle;\n    }\n\n    .dataframe tbody tr th {\n        vertical-align: top;\n    }\n\n    .dataframe thead th {\n        text-align: right;\n    }\n</style>\n<table border=\"1\" class=\"dataframe\">\n  <thead>\n    <tr style=\"text-align: right;\">\n      <th></th>\n      <th>Unnamed: 0</th>\n      <th>so_file</th>\n      <th>nums</th>\n      <th>涉及的项目</th>\n    </tr>\n  </thead>\n  <tbody>\n    <tr>\n      <th>0</th>\n      <td>0</td>\n      <td>F:\\CCFinder\\CodeData\\code_1225.java#21837-21866</td>\n      <td>2</td>\n      <td>['APIJSON', 'APIJSON']</td>\n    </tr>\n    <tr>\n      <th>1</th>\n      <td>1</td>\n      <td>F:\\CCFinder\\CodeData\\code_1376.java#34824-34850</td>\n      <td>1</td>\n      <td>['APIJSON']</td>\n    </tr>\n  </tbody>\n</table>\n</div>"
     },
     "execution_count": 2,
     "metadata": {},
     "output_type": "execute_result"
    }
   ],
   "source": [
    "df = pd.read_excel('./nums of SO is hit.xlsx')\n",
    "df.info()\n",
    "df.head(2)"
   ],
   "metadata": {
    "collapsed": false,
    "pycharm": {
     "name": "#%%\n"
    }
   }
  },
  {
   "cell_type": "code",
   "execution_count": 3,
   "outputs": [
    {
     "name": "stderr",
     "output_type": "stream",
     "text": [
      "100%|██████████| 134302/134302 [27:36<00:00, 81.10it/s] \n"
     ]
    }
   ],
   "source": [
    "so_line_idx_list = []\n",
    "\n",
    "for i in tqdm(range(len(df['so_file']))):\n",
    "    file_info = df['so_file'][i].split('#')\n",
    "    with open('E:/code.ccfxprepdir/'+file_info[0].split('\\\\')[-1]+'.java.2_0_0_0.default.ccfxprep','r') as f:\n",
    "        line_list = f.readlines()\n",
    "        idx = int(file_info[1].split('-')[0])-1\n",
    "        so_line_idx = int(line_list[idx].split('.')[0], 16)\n",
    "        so_line_idx_list.append(so_line_idx)\n",
    "        # with open(file_info[0],'r',encoding='utf-8') as SOfile:\n",
    "        #     SO_line_list = SOfile.readlines()\n",
    "        #     flag = 0\n",
    "        #\n",
    "        #     if so_line_idx==\n",
    "        #\n",
    "        #     for i in range(so_line_idx-1, -1, -1):\n",
    "        #         if '//CreationDate =' in SO_line_list[i]:\n",
    "        #             save_so_info.append(SO_line_list[i])\n",
    "        #             flag=1\n",
    "        #             break\n",
    "        #\n",
    "        #\n",
    "        #     if flag==0:\n",
    "        #         save_so_info.append('@')\n",
    "\n"
   ],
   "metadata": {
    "collapsed": false,
    "pycharm": {
     "name": "#%%\n"
    }
   }
  },
  {
   "cell_type": "code",
   "execution_count": 5,
   "outputs": [],
   "source": [
    "df['SO_line_idx'] = so_line_idx_list\n",
    "df.to_excel('./nums of SO is hit.xlsx')\n"
   ],
   "metadata": {
    "collapsed": false,
    "pycharm": {
     "name": "#%%\n"
    }
   }
  },
  {
   "cell_type": "code",
   "execution_count": 9,
   "outputs": [
    {
     "data": {
      "text/plain": "1"
     },
     "execution_count": 9,
     "metadata": {},
     "output_type": "execute_result"
    }
   ],
   "source": [
    "df['SO_line_idx'].min()"
   ],
   "metadata": {
    "collapsed": false,
    "pycharm": {
     "name": "#%%\n"
    }
   }
  },
  {
   "cell_type": "code",
   "execution_count": null,
   "outputs": [],
   "source": [
    "\n"
   ],
   "metadata": {
    "collapsed": false,
    "pycharm": {
     "name": "#%%\n"
    }
   }
  }
 ],
 "metadata": {
  "kernelspec": {
   "display_name": "Python 3",
   "language": "python",
   "name": "python3"
  },
  "language_info": {
   "codemirror_mode": {
    "name": "ipython",
    "version": 2
   },
   "file_extension": ".py",
   "mimetype": "text/x-python",
   "name": "python",
   "nbconvert_exporter": "python",
   "pygments_lexer": "ipython2",
   "version": "2.7.6"
  }
 },
 "nbformat": 4,
 "nbformat_minor": 0
}