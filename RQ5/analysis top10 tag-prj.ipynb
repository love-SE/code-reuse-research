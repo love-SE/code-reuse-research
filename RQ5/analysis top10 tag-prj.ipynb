{
 "cells": [
  {
   "cell_type": "code",
   "execution_count": 3,
   "outputs": [],
   "source": [
    "from datetime import datetime\n",
    "import time\n",
    "import os\n",
    "from tqdm import tqdm\n",
    "import pandas as pd\n",
    "import re\n",
    "import collections"
   ],
   "metadata": {
    "collapsed": false,
    "pycharm": {
     "name": "#%%\n"
    }
   }
  },
  {
   "cell_type": "code",
   "execution_count": 1,
   "outputs": [],
   "source": [
    "df = pd.read_excel('./referred post info(new).xlsx')\n",
    "df = df[df['referred nums']!=1]\n",
    "df['set(prj)'] = df['prj'].apply(lambda x: set(re.findall(r'\\'(.*?)\\'', x)))\n",
    "df.info()\n",
    "df.head(2)\n"
   ],
   "metadata": {
    "collapsed": false,
    "pycharm": {
     "name": "#%%\n"
    }
   }
  },
  {
   "cell_type": "code",
   "execution_count": 2,
   "outputs": [],
   "source": [
    "df['set(prj)'][0]"
   ],
   "metadata": {
    "collapsed": false,
    "pycharm": {
     "name": "#%%\n"
    }
   }
  },
  {
   "cell_type": "code",
   "execution_count": 126,
   "outputs": [
    {
     "name": "stderr",
     "output_type": "stream",
     "text": [
      "10it [00:00, 33.37it/s]\n"
     ]
    }
   ],
   "source": [
    "top10tags = ['<android>',\n",
    "  '<spring>',\n",
    "  '<swing>',\n",
    "  '<hibernate>',\n",
    "  '<arrays>',\n",
    "  '<eclipse>',\n",
    "  '<xml>',\n",
    "  '<json>',\n",
    "  '<multithreading>',\n",
    "  '<maven>']\n",
    "\n",
    "prj_list = [[] for _ in range(10)]\n",
    "prj_nums = []\n",
    "\n",
    "tagsdict = collections.defaultdict()\n",
    "for num,tag in tqdm(enumerate(top10tags)):\n",
    "    temp_df = df[df['tag'].str.contains(tag)]\n",
    "    prj_nums.append(temp_df['referred nums'].sum())\n",
    "    temp_dict = collections.defaultdict(int)\n",
    "    for s in temp_df['set(prj)']:\n",
    "        for p in s:\n",
    "            temp_dict[p] += 1\n",
    "    tagsdict[tag] = temp_dict\n",
    "\n",
    "\n",
    "        # l = re.findall(r'\\'(.*?)\\'',i)\n",
    "        # prj_list[num].extend(l)"
   ],
   "metadata": {
    "collapsed": false,
    "pycharm": {
     "name": "#%%\n"
    }
   }
  },
  {
   "cell_type": "code",
   "execution_count": 153,
   "outputs": [
    {
     "name": "stdout",
     "output_type": "stream",
     "text": [
      "& 492\n",
      "& 430\n",
      "& 437\n",
      "& 424\n",
      "& 413\n",
      "& 410\n",
      "& 390\n",
      "& 386\n",
      "& 395\n",
      "& 368\n"
     ]
    }
   ],
   "source": [
    "for i in top10tags:\n",
    "    print('&',len(tagsdict[i]))"
   ],
   "metadata": {
    "collapsed": false,
    "pycharm": {
     "name": "#%%\n"
    }
   }
  },
  {
   "cell_type": "code",
   "execution_count": 152,
   "outputs": [
    {
     "name": "stdout",
     "output_type": "stream",
     "text": [
      "<android>\n",
      "FirebaseUI-Android(1213), LifeHelper(1071), DoraemonKit(1001), MPAndroidChart(999), xxl-job(997), OpenHub(979), android-advancedrecyclerview(941), physical-web(825), XRecyclerView(784), AndroidAutoLayout(770), \n",
      "<spring>\n",
      "FirebaseUI-Android(431), DoraemonKit(372), LifeHelper(369), xxl-job(365), spring-boot(317), OpenHub(313), android-advancedrecyclerview(300), MPAndroidChart(295), spring-cloud-netflix(284), SpringBoot-Labs(278), \n",
      "<swing>\n",
      "FirebaseUI-Android(370), MPAndroidChart(347), LifeHelper(323), OpenHub(316), Phonograph(302), DoraemonKit(301), android-advancedrecyclerview(298), xxl-job(291), physical-web(290), XRecyclerView(283), \n",
      "<hibernate>\n",
      "FirebaseUI-Android(247), DoraemonKit(218), LifeHelper(214), xxl-job(211), OpenHub(202), MPAndroidChart(201), android-advancedrecyclerview(190), physical-web(165), Phonograph(164), XRecyclerView(158), \n",
      "<arrays>\n",
      "FirebaseUI-Android(240), LifeHelper(202), MPAndroidChart(197), DoraemonKit(197), xxl-job(195), OpenHub(193), android-advancedrecyclerview(181), Phonograph(168), physical-web(165), XRecyclerView(162), \n",
      "<eclipse>\n",
      "MPAndroidChart(217), FirebaseUI-Android(217), LifeHelper(209), OpenHub(199), android-advancedrecyclerview(191), Phonograph(182), physical-web(178), XRecyclerView(175), AndroidAutoLayout(173), xxl-job(170), \n",
      "<xml>\n",
      "FirebaseUI-Android(159), DoraemonKit(152), xxl-job(151), LifeHelper(131), MPAndroidChart(129), OpenHub(123), android-advancedrecyclerview(116), physical-web(103), XRecyclerView(101), Phonograph(98), \n",
      "<json>\n",
      "FirebaseUI-Android(188), LifeHelper(164), DoraemonKit(149), xxl-job(147), OpenHub(141), MPAndroidChart(139), android-advancedrecyclerview(137), physical-web(116), XRecyclerView(113), AndroidAutoLayout(110), \n",
      "<multithreading>\n",
      "FirebaseUI-Android(169), LifeHelper(157), MPAndroidChart(157), DoraemonKit(153), xxl-job(143), OpenHub(139), android-advancedrecyclerview(135), physical-web(124), XRecyclerView(117), AndroidAutoLayout(115), \n",
      "<maven>\n",
      "FirebaseUI-Android(169), LifeHelper(147), OpenHub(132), android-advancedrecyclerview(129), DoraemonKit(129), xxl-job(122), MPAndroidChart(120), physical-web(107), XRecyclerView(103), AndroidAutoLayout(101), \n"
     ]
    }
   ],
   "source": [
    "for i in top10tags:\n",
    "    td = tagsdict[i]\n",
    "    d_order = sorted(td.items(),key=lambda x:x[1], reverse=True)\n",
    "    print(i)\n",
    "    # print(d_order[:10])\n",
    "    s=''\n",
    "    for k,v in d_order[:10]:\n",
    "        s+=k+'({})'.format(v)+', '\n",
    "    print(s)"
   ],
   "metadata": {
    "collapsed": false,
    "pycharm": {
     "name": "#%%\n"
    }
   }
  },
  {
   "cell_type": "code",
   "execution_count": 138,
   "outputs": [
    {
     "data": {
      "text/plain": "dict_items([('a', 1), ('c', 3), ('b', 2)])"
     },
     "execution_count": 138,
     "metadata": {},
     "output_type": "execute_result"
    }
   ],
   "source": [
    "d={'a':1,'c':3,'b':2}\n",
    "d.items()"
   ],
   "metadata": {
    "collapsed": false,
    "pycharm": {
     "name": "#%%\n"
    }
   }
  },
  {
   "cell_type": "code",
   "execution_count": null,
   "outputs": [],
   "source": [],
   "metadata": {
    "collapsed": false,
    "pycharm": {
     "name": "#%%\n"
    }
   }
  },
  {
   "cell_type": "code",
   "execution_count": null,
   "outputs": [],
   "source": [],
   "metadata": {
    "collapsed": false,
    "pycharm": {
     "name": "#%%\n"
    }
   }
  },
  {
   "cell_type": "code",
   "execution_count": 63,
   "outputs": [
    {
     "data": {
      "text/plain": "2333"
     },
     "execution_count": 63,
     "metadata": {},
     "output_type": "execute_result"
    }
   ],
   "source": [
    "x = df['prj'][0]\n",
    "x = pd.Series(re.findall(r'\\'(.*?)\\'',x))\n",
    "len(x)\n",
    "# for i,j in zip(x.index, x.values):\n",
    "#     print(i,j)"
   ],
   "metadata": {
    "collapsed": false,
    "pycharm": {
     "name": "#%%\n"
    }
   }
  },
  {
   "cell_type": "code",
   "execution_count": 69,
   "outputs": [
    {
     "data": {
      "text/plain": "False"
     },
     "execution_count": 69,
     "metadata": {},
     "output_type": "execute_result"
    }
   ],
   "source": [],
   "metadata": {
    "collapsed": false,
    "pycharm": {
     "name": "#%%\n"
    }
   }
  },
  {
   "cell_type": "code",
   "execution_count": 107,
   "outputs": [
    {
     "name": "stderr",
     "output_type": "stream",
     "text": [
      "10it [00:00, 32.36it/s]\n"
     ]
    }
   ],
   "source": [
    "\n",
    "# tagsdict = {}\n",
    "# for i,j in tqdm(zip(top10tags, prj_list)):\n",
    "#     temp_series = pd.Series(re.findall(r'\\'(.*?)\\'',str(j))).value_counts()\n",
    "#     temp_dict = {}\n",
    "#     for n,m in zip(temp_series.index, temp_series.values):\n",
    "#         temp_dict[n] = m\n",
    "#     tagsdict[i] = temp_dict\n",
    "\n",
    "\n"
   ],
   "metadata": {
    "collapsed": false,
    "pycharm": {
     "name": "#%%\n"
    }
   }
  },
  {
   "cell_type": "code",
   "execution_count": 108,
   "outputs": [
    {
     "data": {
      "text/plain": "{'incubator-dolphinscheduler': 37664,\n 'spring-boot': 17126,\n 'nacos': 8102,\n 'atlas': 7415,\n 'dubbo': 7068,\n 'MPAndroidChart': 4950,\n 'DependencyCheck': 4397,\n 'spring-cloud-netflix': 4324,\n 'spring-cloud-alibaba': 4089,\n 'ksql': 3989,\n 'DoraemonKit': 3361,\n 'physical-web': 3359,\n 'conductor': 3356,\n 'curator': 3156,\n 'wildfly': 2943,\n 'java-design-patterns': 2627,\n 'swagger-core': 2564,\n 'LifeHelper': 2348,\n 'NewPipe': 2339,\n 'graphql-java': 2177,\n 'FirebaseUI-Android': 2021,\n 'AmazeFileManager': 1921,\n 'bistoury': 1661,\n 'Mycat-Server': 1577,\n 'eureka': 1540,\n 'vespa': 1538,\n 'graphhopper': 1470,\n 'OsmAnd': 1412,\n 'ysoserial': 1395,\n 'OpenHub': 1293,\n 'InstaMaterial': 1262,\n 'xxl-job': 1171,\n 'mockserver': 1145,\n 'DKVideoPlayer': 1143,\n 'SpringBoot-Labs': 1126,\n 'NetGuard': 1021,\n 'android-advancedrecyclerview': 1019,\n 'quartz': 1015,\n 'Phonograph': 979,\n 'onedev': 971,\n 'jetty.project': 955,\n 'java-tron': 939,\n 'armeria': 910,\n 'azkaban': 903,\n 'XRecyclerView': 858,\n 'wiremock': 840,\n 'AndroidAutoLayout': 836,\n 'zeppelin': 819,\n 'javaee7-samples': 796,\n 'light-task-scheduler': 785,\n 'flyway': 771,\n 'fastjson': 766,\n 'OpenRefine': 740,\n 'Android-skin-support': 730,\n 'material-intro-screen': 691,\n 'data-transfer-project': 682,\n 'TwinklingRefreshLayout': 671,\n 'FastHub': 656,\n 'web3j': 648,\n 'spring-boot-admin': 642,\n 'DanmakuFlameMaster': 639,\n 'RxEasyHttp': 608,\n 'karate': 587,\n 'Android-ZBLibrary': 537,\n 'okhttp': 528,\n 'Sentinel': 519,\n 'spring-security': 517,\n 'MagicaSakura': 514,\n 'Twitter4J': 511,\n 'smile': 511,\n 'Spring-Cloud-Platform': 505,\n 'spring-cloud-gateway': 503,\n 'mpush': 488,\n 'jadx': 479,\n 'Android-IMSI-Catcher-Detector': 460,\n 'easyexcel': 453,\n 'nutz': 452,\n 'Carbon': 446,\n 'maxwell': 443,\n 'UETool': 441,\n 'PictureSelector': 439,\n 'material': 436,\n 'halo': 435,\n 'AndroidAsync': 427,\n 'canal': 426,\n 'weiciyuan': 421,\n 'plantuml': 418,\n 'RePlugin': 416,\n 'RxJava2-Android-Samples': 407,\n 'motan': 404,\n 'epoxy': 404,\n 'picocli': 403,\n 'ballerina-lang': 402,\n 'uhabits': 385,\n 'Conversations': 385,\n 'PlayerBase': 383,\n 'ansj_seg': 374,\n 'jackson-databind': 366,\n 'bitcoinj': 363,\n 'androidannotations': 360,\n 'hutool': 356,\n 'jodd': 353,\n 'LoadSir': 342,\n 'lombok': 327,\n 'smartTable': 324,\n 'lombok-intellij-plugin': 322,\n 'GSYVideoPlayer': 319,\n 'facebook-android-sdk': 317,\n 'Shadow': 314,\n 'springfox': 302,\n 'apollo': 302,\n 'cordova-android': 299,\n 'hmily': 295,\n 'btrace': 291,\n 'cassandra': 285,\n 'arthas': 281,\n 'SpringCloud': 275,\n 'mockito': 272,\n 'Hystrix': 270,\n 'dubbo-admin': 263,\n 'FileDownloader': 263,\n 'cardslib': 258,\n 'fresco': 257,\n 'AndroidUtilCode': 242,\n 'mapstruct': 238,\n 'brigadier': 237,\n 'go-lang-idea-plugin': 236,\n 'jstorm': 233,\n 'YCSB': 230,\n 'RxLifecycle': 228,\n 'Android-BluetoothKit': 223,\n 'seata': 219,\n 'Aria': 216,\n 'tx-lcn': 216,\n 'Douya': 216,\n 'android-beacon-library': 214,\n 'haven': 214,\n 'Fragmentation': 214,\n 'MVVMHabit': 208,\n 'angel': 197,\n 'MusicDNA': 192,\n 'AndResGuard': 190,\n 'PagerBottomTabStrip': 190,\n 'AppUpdate': 185,\n 'HikariCP': 181,\n 'transferee': 181,\n 'XUI': 174,\n 'LeafPic': 174,\n 'ignite': 169,\n 'EdXposed': 168,\n 'RxJava-Android-Samples': 168,\n 'mapdb': 168,\n 'mp4parser': 166,\n 'MyBookshelf': 162,\n 'baritone': 161,\n 'android-betterpickers': 157,\n 'nokogiri': 156,\n 'javacpp': 155,\n 'opentsdb': 151,\n 'eladmin': 148,\n 'greys-anatomy': 147,\n 'material-components-android': 147,\n 'tablesaw': 147,\n 'Auto.js': 144,\n 'RxJavaSamples': 142,\n 'rocketmq': 142,\n 'ribbon': 141,\n 'zookeeper': 140,\n 'smali': 134,\n 'litemall': 134,\n 'Conductor1': 133,\n 'Android-SpinKit': 131,\n 'malmo': 130,\n 'AlgoDS': 130,\n 'incubator-heron': 129,\n 'HMCL': 129,\n 'XposedInstaller': 128,\n 'Timber': 127,\n 'apollo-android': 126,\n 'spring-data-elasticsearch': 125,\n 'android-oss': 121,\n 'junit4': 116,\n 'mybatis-3': 116,\n 'dropwizard': 115,\n 'simplify': 112,\n 'elasticsearch-sql': 112,\n 'RxAndroid': 111,\n 'deeplearning4j': 110,\n 'FastBle': 110,\n 'Fast-Android-Networking': 106,\n 'JsonPath': 106,\n 'bytecode-viewer': 102,\n 'linuxdeploy': 101,\n 'zxing-android-embedded': 101,\n 'spock': 98,\n 'lettuce-core': 97,\n 'SimianArmy': 96,\n 'jna': 96,\n 'XPopup': 95,\n 'error-prone': 94,\n 'coursera-android': 92,\n 'remusic': 92,\n 'FlexibleAdapter': 92,\n 'moco': 91,\n 'VirtualApp': 88,\n 'EventBus': 88,\n 'VirtualXposed': 88,\n 'material-theme-jetbrains': 87,\n 'hover': 81,\n 'javamelody': 80,\n 'BookReader': 79,\n 'cucumber': 78,\n 'AgentWeb': 78,\n 'micrometer': 77,\n 'server': 76,\n 'Awesome-WanAndroid': 75,\n 'BasePopup': 75,\n 'greenDAO': 72,\n 'soul': 72,\n 'Android-Debug-Database': 72,\n 'WebCollector': 70,\n 'jvm-sandbox': 69,\n 'feign': 68,\n 'JCTools': 66,\n 'Mapper': 65,\n 'ImmersionBar': 64,\n 'freeline': 63,\n 'resilience4j': 61,\n 'android-zxingLibrary': 57,\n 'Discovery': 57,\n 'android-mvvm-architecture': 56,\n 'reactive-streams-jvm': 56,\n 'MinimalistWeather': 56,\n 'picasso': 56,\n 'jsoup': 55,\n 'FrameworkBenchmarks': 53,\n 'android-iconify': 53,\n 'JSqlParser': 52,\n 'zipkin': 51,\n 'GeekNews': 50,\n 'lwjgl3': 50,\n 'android-mvp-architecture': 50,\n 'vhr': 49,\n 'tape': 49,\n 'docker-maven-plugin': 48,\n 'EffectiveAndroidUI': 47,\n 'librec': 46,\n 'PageIndicatorView': 42,\n 'okhttp-OkGo': 41,\n 'ByteTCC': 41,\n 'SpringCloudLearning': 40,\n 'BaseRecyclerViewAdapterHelper': 40,\n 'quasar': 40,\n 'springBoot': 39,\n 'mosby': 39,\n 'ion': 38,\n 'ZLayoutManager': 37,\n 'SoloPi': 36,\n 'caffeine': 36,\n 'CheckVersionLib': 35,\n 'CloudReader': 35,\n 'spring-security-oauth': 35,\n 'ViewPagerIndicator': 35,\n 'MVPArms': 34,\n 'lottie-android': 34,\n 'shiro': 34,\n 'algs4': 33,\n 'requery': 33,\n 'StickerCamera': 33,\n 'CameraView': 33,\n 'disconf': 32,\n 'subsampling-scale-image-view': 32,\n 'junit5': 31,\n 'PRDownloader': 31,\n 'sofa-rpc': 31,\n 'hsweb-framework': 31,\n 'onemall': 31,\n 'springside4': 31,\n 'dagger': 31,\n 'jedis': 30,\n 'camerakit-android': 30,\n 'JKeyboardPanelSwitch': 30,\n 'javassist': 29,\n 'zuul': 28,\n 'android-async-http': 27,\n 'flutter_boost': 27,\n 'initializr': 27,\n 'Java-WebSocket': 26,\n 'android-signaturepad': 26,\n 'gson': 26,\n 'TableView': 25,\n 'ticker': 25,\n 'JFoenix': 25,\n 'zxing': 24,\n 'spring-data-examples': 24,\n 'Crouton': 24,\n 'generator': 24,\n 'aws-sdk-java': 24,\n 'cachecloud': 23,\n 'IJPay': 23,\n 'retrofit': 23,\n 'MvpApp': 22,\n 'light-4j': 22,\n 'cim': 22,\n 'vavr': 22,\n 'easy-rules': 21,\n 'sofa-boot': 21,\n 'GmsCore': 21,\n 'Android-PickerView': 21,\n 'metersphere': 21,\n 'Unblock163MusicClient-Xposed': 20,\n 'native-navigation': 20,\n 'Guns': 20,\n 'InfiniteCycleViewPager': 20,\n 'SwipeDelMenuLayout': 20,\n 'MaterialDateTimePicker': 19,\n 'MyBatis-Spring-Boot': 19,\n 'keywhiz': 19,\n 'JJSearchViewAnim': 19,\n 'Java': 19,\n 'MasteringAndroidDataBinding': 18,\n 'BGARefreshLayout-Android': 18,\n 'AarogyaSetu': 18,\n 'jvm-tools': 18,\n 'GraphView': 18,\n 'storio': 18,\n 'red5-server': 18,\n 'BackgroundLibrary': 17,\n 'jfinal': 17,\n 'LRecyclerView': 17,\n 'Transitions-Everywhere': 17,\n 'guice': 17,\n 'okdownload': 17,\n 'jetcache': 16,\n 'antlr4': 16,\n 'java-algorithms-implementation': 16,\n 'databus': 16,\n 'scribejava': 16,\n 'piggymetrics': 15,\n 'rest-assured': 15,\n 'xboot': 15,\n 'Cockroach': 15,\n 'frontend-maven-plugin': 15,\n 'webmagic': 15,\n 'AndPermission': 15,\n 'ChipsLayoutManager': 14,\n 'DiagonalLayout': 14,\n 'react-native-svg': 14,\n 'PhotoView': 13,\n 'cw-omnibus': 13,\n 'MaterialShowcaseView': 13,\n 'retrolambda': 13,\n 'afinal': 13,\n 'RichText': 13,\n 'netty-socketio': 13,\n 'ShapeOfView': 12,\n 'jeecg-boot': 12,\n 'NoHttp': 12,\n 'Small': 11,\n 'android-menudrawer': 11,\n 'auto': 11,\n 'AndroidAutoSize': 11,\n 'xUtils3': 11,\n 'yuicompressor': 10,\n 'PhotoEditor': 10,\n 'android-maps-utils': 10,\n 'LitePal': 10,\n 'SmartRefreshLayout': 10,\n 'glide-transformations': 10,\n 'spring-loaded': 10,\n 'emojicon': 10,\n 'UltimateRecyclerView': 10,\n 'zheng': 10,\n 'glide': 10,\n 'metrics': 10,\n 'blade': 9,\n 'android-flip': 9,\n 'react-native-push-notification': 9,\n 'hawk': 9,\n 'jib': 9,\n 'AndroidChromium': 9,\n 'GCViewer': 9,\n 'Leetcode1': 9,\n 'jsonschema2pojo': 9,\n 'CoCoin': 9,\n 'vjtools': 9,\n 'javacv': 9,\n 'mybatis': 8,\n 'ActiveAndroid': 8,\n 'disruptor': 8,\n 'APIJSON': 8,\n 'termex-app': 8,\n 'powermock': 8,\n 'miaosha': 8,\n 'cglib': 8,\n 'hope-boot': 8,\n 'spring-boot-starter': 7,\n 'dex2jar': 7,\n 'Mybatis-PageHelper': 7,\n 'Dexter': 7,\n 'aurora-imui': 7,\n 'banner': 7,\n 'android-gif-drawable': 7,\n 'roboguice': 7,\n 'android-priority-jobqueue': 7,\n 'AndroidViewAnimations': 7,\n 'immutables': 6,\n 'Album': 6,\n 'stetho': 6,\n 'android-classyshark': 6,\n 'libstreaming': 6,\n 'tcc-transaction': 6,\n 'u2020': 6,\n 'xmall': 6,\n 'butterknife': 6,\n 'jacoco': 6,\n 'react-native-image-picker': 6,\n 'AndroidPicker': 5,\n 'okhttputils': 5,\n 'react-native-camera': 5,\n 'PermissionsDispatcher': 5,\n 'capacitor': 5,\n 'SpringBoot-Learning': 5,\n 'cryptomator': 5,\n 'ProgressManager': 4,\n 'testcontainers-java': 4,\n 'ShortcutBadger': 4,\n 'Genius-Android': 4,\n 'elasticsearch-analysis-ik': 4,\n 'MaterialDesignLibrary': 4,\n 'CalendarView': 3,\n 'StickyHeaderListView': 3,\n 'CircularReveal': 3,\n 'LoganSquare': 3,\n 'material-calendarview': 3,\n 'AndroidResideMenu': 3,\n 'elasticsearch-jdbc': 3,\n 'rocketmq-externals': 3,\n 'ImagePicker': 3,\n 'google-services': 3,\n 'Android-Universal-Image-Loader': 3,\n 'mall': 3,\n 'crawler4j': 3,\n 'AndroidHttpCapture': 2,\n 'DiscreteScrollView': 2,\n 'AndServer': 2,\n 'ListenerMusicPlayer': 2,\n 'T-MVP': 2,\n 'SuperCalendar': 2,\n 'sensey': 2,\n 'JAViewer': 2,\n 'android-mvp-mvvm-flytour': 2,\n 'Tangram-Android': 2,\n 'flow': 2,\n 'WheelPicker': 2,\n 'android-Ultra-Pull-To-Refresh': 2,\n 'AndroidTVLauncher': 2,\n 'JavaVerbalExpressions': 2,\n 'gnirehtet': 2,\n 'sugar': 2,\n 'otter': 2,\n 'PowerJob': 2,\n 'Android-CleanArchitecture': 2,\n 'mall-swarm': 2,\n 'paascloud-master': 2,\n 'ice': 2,\n 'FizzBuzzEnterpriseEdition': 2,\n 'RxGalleryFinal': 2,\n 'awaitility': 1,\n 'Jetpack-MVVM-Best-Practice': 1,\n 'simple-binary-encoding': 1,\n 'SeeWeather': 1,\n 'joda-time-android': 1,\n 'libsvm': 1,\n 'blueocean-plugin': 1,\n 'java-jwt': 1,\n 'QLExpress': 1,\n 'logger': 1,\n 'NineGridView': 1,\n 'spring-boot-demo': 1,\n 'spring-analysis': 1,\n 'StickyListHeaders': 1,\n 'AndroidPerformanceMonitor': 1,\n 'RecyclerViewPager': 1,\n 'boxing': 1,\n 'XCL-Charts': 1,\n 'Android-Terminal-Emulator': 1,\n 'ARouter': 1,\n 'reflections': 1,\n 'volley': 1,\n 'robotium': 1,\n 'Android-ObservableScrollView': 1}"
     },
     "execution_count": 108,
     "metadata": {},
     "output_type": "execute_result"
    }
   ],
   "source": [
    "tagsdict['<android>']"
   ],
   "metadata": {
    "collapsed": false,
    "pycharm": {
     "name": "#%%\n"
    }
   }
  },
  {
   "cell_type": "code",
   "execution_count": 105,
   "outputs": [
    {
     "ename": "TypeError",
     "evalue": "expected string or bytes-like object",
     "output_type": "error",
     "traceback": [
      "\u001B[1;31m---------------------------------------------------------------------------\u001B[0m",
      "\u001B[1;31mTypeError\u001B[0m                                 Traceback (most recent call last)",
      "\u001B[1;32m~\\AppData\\Local\\Temp/ipykernel_13836/2593625891.py\u001B[0m in \u001B[0;36m<module>\u001B[1;34m\u001B[0m\n\u001B[0;32m      1\u001B[0m \u001B[0mx\u001B[0m \u001B[1;33m=\u001B[0m \u001B[0mprj_list\u001B[0m\u001B[1;33m[\u001B[0m\u001B[1;36m0\u001B[0m\u001B[1;33m]\u001B[0m\u001B[1;33m\u001B[0m\u001B[1;33m\u001B[0m\u001B[0m\n\u001B[1;32m----> 2\u001B[1;33m \u001B[0mpd\u001B[0m\u001B[1;33m.\u001B[0m\u001B[0mSeries\u001B[0m\u001B[1;33m(\u001B[0m\u001B[0mre\u001B[0m\u001B[1;33m.\u001B[0m\u001B[0mfindall\u001B[0m\u001B[1;33m(\u001B[0m\u001B[1;34mr'\\'(.*?)\\''\u001B[0m\u001B[1;33m,\u001B[0m\u001B[0mx\u001B[0m\u001B[1;33m)\u001B[0m\u001B[1;33m)\u001B[0m\u001B[1;33m\u001B[0m\u001B[1;33m\u001B[0m\u001B[0m\n\u001B[0m",
      "\u001B[1;32mF:\\ML_ENVS\\lib\\re.py\u001B[0m in \u001B[0;36mfindall\u001B[1;34m(pattern, string, flags)\u001B[0m\n\u001B[0;32m    223\u001B[0m \u001B[1;33m\u001B[0m\u001B[0m\n\u001B[0;32m    224\u001B[0m     Empty matches are included in the result.\"\"\"\n\u001B[1;32m--> 225\u001B[1;33m     \u001B[1;32mreturn\u001B[0m \u001B[0m_compile\u001B[0m\u001B[1;33m(\u001B[0m\u001B[0mpattern\u001B[0m\u001B[1;33m,\u001B[0m \u001B[0mflags\u001B[0m\u001B[1;33m)\u001B[0m\u001B[1;33m.\u001B[0m\u001B[0mfindall\u001B[0m\u001B[1;33m(\u001B[0m\u001B[0mstring\u001B[0m\u001B[1;33m)\u001B[0m\u001B[1;33m\u001B[0m\u001B[1;33m\u001B[0m\u001B[0m\n\u001B[0m\u001B[0;32m    226\u001B[0m \u001B[1;33m\u001B[0m\u001B[0m\n\u001B[0;32m    227\u001B[0m \u001B[1;32mdef\u001B[0m \u001B[0mfinditer\u001B[0m\u001B[1;33m(\u001B[0m\u001B[0mpattern\u001B[0m\u001B[1;33m,\u001B[0m \u001B[0mstring\u001B[0m\u001B[1;33m,\u001B[0m \u001B[0mflags\u001B[0m\u001B[1;33m=\u001B[0m\u001B[1;36m0\u001B[0m\u001B[1;33m)\u001B[0m\u001B[1;33m:\u001B[0m\u001B[1;33m\u001B[0m\u001B[1;33m\u001B[0m\u001B[0m\n",
      "\u001B[1;31mTypeError\u001B[0m: expected string or bytes-like object"
     ]
    }
   ],
   "source": [
    "\n",
    "x = prj_list[0]\n",
    "pd.Series(re.findall(r'\\'(.*?)\\'',x))"
   ],
   "metadata": {
    "collapsed": false,
    "pycharm": {
     "name": "#%%\n"
    }
   }
  },
  {
   "cell_type": "code",
   "execution_count": 109,
   "outputs": [
    {
     "data": {
      "text/plain": "213229"
     },
     "execution_count": 109,
     "metadata": {},
     "output_type": "execute_result"
    }
   ],
   "source": [
    "len(x)"
   ],
   "metadata": {
    "collapsed": false,
    "pycharm": {
     "name": "#%%\n"
    }
   }
  },
  {
   "cell_type": "code",
   "execution_count": 111,
   "outputs": [
    {
     "data": {
      "text/plain": "213229"
     },
     "execution_count": 111,
     "metadata": {},
     "output_type": "execute_result"
    }
   ],
   "source": [
    "prj_nums[0]"
   ],
   "metadata": {
    "collapsed": false,
    "pycharm": {
     "name": "#%%\n"
    }
   }
  },
  {
   "cell_type": "code",
   "execution_count": null,
   "outputs": [],
   "source": [],
   "metadata": {
    "collapsed": false,
    "pycharm": {
     "name": "#%%\n"
    }
   }
  },
  {
   "cell_type": "code",
   "execution_count": null,
   "outputs": [],
   "source": [
    "\n"
   ],
   "metadata": {
    "collapsed": false,
    "pycharm": {
     "name": "#%%\n"
    }
   }
  }
 ],
 "metadata": {
  "kernelspec": {
   "display_name": "Python 3",
   "language": "python",
   "name": "python3"
  },
  "language_info": {
   "codemirror_mode": {
    "name": "ipython",
    "version": 2
   },
   "file_extension": ".py",
   "mimetype": "text/x-python",
   "name": "python",
   "nbconvert_exporter": "python",
   "pygments_lexer": "ipython2",
   "version": "2.7.6"
  }
 },
 "nbformat": 4,
 "nbformat_minor": 0
}