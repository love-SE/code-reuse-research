{
 "cells": [
  {
   "cell_type": "code",
   "execution_count": 1,
   "metadata": {
    "collapsed": true
   },
   "outputs": [],
   "source": [
    "from datetime import datetime\n",
    "import time\n",
    "import os\n",
    "from tqdm import tqdm\n",
    "import pandas as pd\n"
   ]
  },
  {
   "cell_type": "code",
   "execution_count": 1,
   "outputs": [],
   "source": [
    "with open('Type_names.txt') as f:\n",
    "    projects = f.readlines()\n",
    "    projects = [i.rstrip() for i in projects]\n",
    "print('prj nums{}'.format(len(projects)))\n",
    "# projects = ['\\\\AarogyaSetu']\n"
   ],
   "metadata": {
    "collapsed": false,
    "pycharm": {
     "name": "#%%\n"
    }
   }
  },
  {
   "cell_type": "code",
   "execution_count": 10,
   "outputs": [
    {
     "name": "stderr",
     "output_type": "stream",
     "text": [
      "100%|██████████| 2/2 [00:00<00:00, 80.70it/s]\n"
     ]
    },
    {
     "name": "stdout",
     "output_type": "stream",
     "text": [
      "F:\\CCFinder\\NewData\\APIJSON\\0\\203.java\n",
      "F:\\CCFinder\\NewData\\APIJSON\\1\\509.java\n",
      "F:\\CCFinder\\NewData\\APIJSON\\1\\2168.java\n",
      "F:\\CCFinder\\NewData\\APIJSON\\1\\3563.java\n",
      "F:\\CCFinder\\NewData\\APIJSON\\1\\3575.java\n",
      "F:\\CCFinder\\NewData\\APIJSON\\2\\8411.java\n",
      "F:\\CCFinder\\NewData\\APIJSON\\4\\10223.java\n",
      "F:\\CCFinder\\NewData\\APIJSON\\4\\10223.java\n",
      "F:\\CCFinder\\NewData\\APIJSON\\4\\10223.java\n",
      "F:\\CCFinder\\NewData\\APIJSON\\2\\8411.java\n",
      "F:\\CCFinder\\NewData\\APIJSON\\1\\4934.java\n",
      "F:\\CCFinder\\NewData\\APIJSON\\1\\5141.java\n",
      "F:\\CCFinder\\NewData\\APIJSON\\1\\2168.java\n",
      "F:\\CCFinder\\NewData\\APIJSON\\2\\8411.java\n",
      "F:\\CCFinder\\NewData\\APIJSON\\2\\8411.java\n",
      "F:\\CCFinder\\NewData\\APIJSON\\2\\8411.java\n",
      "F:\\CCFinder\\NewData\\APIJSON\\2\\8411.java\n",
      "F:\\CCFinder\\NewData\\APIJSON\\4\\10223.java\n",
      "F:\\CCFinder\\NewData\\APIJSON\\2\\8411.java\n",
      "F:\\CCFinder\\NewData\\APIJSON\\1\\2168.java\n",
      "F:\\CCFinder\\NewData\\APIJSON\\2\\8411.java\n",
      "F:\\CCFinder\\NewData\\APIJSON\\2\\8411.java\n",
      "F:\\CCFinder\\NewData\\APIJSON\\2\\8411.java\n",
      "F:\\CCFinder\\NewData\\APIJSON\\1\\3563.java\n",
      "F:\\CCFinder\\NewData\\APIJSON\\1\\3575.java\n",
      "F:\\CCFinder\\NewData\\APIJSON\\2\\8411.java\n",
      "F:\\CCFinder\\NewData\\APIJSON\\4\\10223.java\n",
      "F:\\CCFinder\\NewData\\APIJSON\\1\\3563.java\n",
      "F:\\CCFinder\\NewData\\APIJSON\\1\\3575.java\n",
      "F:\\CCFinder\\NewData\\APIJSON\\1\\686.java\n",
      "F:\\CCFinder\\NewData\\APIJSON\\1\\722.java\n",
      "F:\\CCFinder\\NewData\\APIJSON\\1\\686.java\n",
      "F:\\CCFinder\\NewData\\APIJSON\\1\\722.java\n",
      "F:\\CCFinder\\NewData\\APIJSON\\4\\10223.java\n",
      "F:\\CCFinder\\NewData\\APIJSON\\2\\8138.java\n",
      "F:\\CCFinder\\NewData\\APIJSON\\4\\10223.java\n",
      "F:\\CCFinder\\NewData\\APIJSON\\1\\5483.java\n",
      "F:\\CCFinder\\NewData\\APIJSON\\1\\5555.java\n",
      "F:\\CCFinder\\NewData\\APIJSON\\2\\8411.java\n",
      "F:\\CCFinder\\NewData\\APIJSON\\4\\10223.java\n",
      "F:\\CCFinder\\NewData\\APIJSON\\1\\686.java\n",
      "F:\\CCFinder\\NewData\\APIJSON\\1\\722.java\n",
      "F:\\CCFinder\\NewData\\APIJSON\\4\\10223.java\n",
      "F:\\CCFinder\\NewData\\APIJSON\\4\\10223.java\n",
      "F:\\CCFinder\\NewData\\APIJSON\\4\\10223.java\n",
      "F:\\CCFinder\\NewData\\APIJSON\\4\\10223.java\n",
      "F:\\CCFinder\\NewData\\APIJSON\\4\\10223.java\n",
      "F:\\CCFinder\\NewData\\APIJSON\\1\\686.java\n",
      "F:\\CCFinder\\NewData\\APIJSON\\1\\722.java\n",
      "F:\\CCFinder\\NewData\\APIJSON\\4\\10223.java\n",
      "F:\\CCFinder\\NewData\\APIJSON\\4\\10223.java\n",
      "F:\\CCFinder\\NewData\\APIJSON\\4\\10223.java\n",
      "F:\\CCFinder\\NewData\\APIJSON\\4\\10223.java\n",
      "F:\\CCFinder\\NewData\\APIJSON\\2\\8411.java\n",
      "F:\\CCFinder\\NewData\\APIJSON\\4\\10223.java\n",
      "F:\\CCFinder\\NewData\\APIJSON\\4\\10223.java\n",
      "F:\\CCFinder\\NewData\\APIJSON\\4\\10223.java\n",
      "F:\\CCFinder\\NewData\\APIJSON\\1\\686.java\n",
      "F:\\CCFinder\\NewData\\APIJSON\\1\\722.java\n",
      "F:\\CCFinder\\NewData\\APIJSON\\4\\10223.java\n",
      "F:\\CCFinder\\NewData\\APIJSON\\2\\8411.java\n",
      "F:\\CCFinder\\NewData\\APIJSON\\4\\10223.java\n",
      "F:\\CCFinder\\NewData\\APIJSON\\4\\10223.java\n",
      "F:\\CCFinder\\NewData\\APIJSON\\4\\10223.java\n",
      "F:\\CCFinder\\NewData\\APIJSON\\4\\10223.java\n",
      "F:\\CCFinder\\NewData\\APIJSON\\4\\10223.java\n",
      "F:\\CCFinder\\NewData\\APIJSON\\4\\10223.java\n",
      "F:\\CCFinder\\NewData\\APIJSON\\4\\10223.java\n",
      "F:\\CCFinder\\NewData\\APIJSON\\4\\10223.java\n",
      "F:\\CCFinder\\NewData\\APIJSON\\4\\10223.java\n",
      "F:\\CCFinder\\NewData\\APIJSON\\4\\10223.java\n",
      "F:\\CCFinder\\NewData\\APIJSON\\1\\3563.java\n",
      "F:\\CCFinder\\NewData\\APIJSON\\1\\3575.java\n",
      "F:\\CCFinder\\NewData\\APIJSON\\4\\10223.java\n",
      "F:\\CCFinder\\NewData\\APIJSON\\4\\10223.java\n",
      "F:\\CCFinder\\NewData\\APIJSON\\1\\3140.java\n",
      "F:\\CCFinder\\NewData\\APIJSON\\1\\686.java\n",
      "F:\\CCFinder\\NewData\\APIJSON\\1\\722.java\n",
      "F:\\CCFinder\\NewData\\APIJSON\\1\\686.java\n",
      "F:\\CCFinder\\NewData\\APIJSON\\1\\722.java\n",
      "F:\\CCFinder\\NewData\\APIJSON\\1\\3140.java\n",
      "F:\\CCFinder\\NewData\\APIJSON\\1\\3563.java\n",
      "F:\\CCFinder\\NewData\\APIJSON\\1\\3575.java\n",
      "F:\\CCFinder\\NewData\\APIJSON\\1\\3140.java\n",
      "F:\\CCFinder\\NewData\\APIJSON\\1\\2168.java\n",
      "F:\\CCFinder\\NewData\\APIJSON\\1\\2168.java\n"
     ]
    }
   ],
   "source": [
    "import collections\n",
    "\n",
    "# hashTable = {}\n",
    "hashTable = collections.defaultdict(list)\n",
    "for project in tqdm(projects[:2]):\n",
    "\n",
    "\n",
    "    fileName = []\n",
    "    clonePairs = []\n",
    "\n",
    "\n",
    "    creationStr = \"//CreationDate = \"\n",
    "\n",
    "    def readSO(fileInfo):\n",
    "        sp1 = fileInfo.split('.')\n",
    "        fileIndex = int(sp1[0]) - 1\n",
    "\n",
    "        file_name = fileName[fileIndex]\n",
    "\n",
    "\n",
    "        if 'xxx' in file_name:\n",
    "            file_name = file_name.replace('xxx\\\\wt', 'CCFinder')\n",
    "\n",
    "\n",
    "        SOfile = open(file_name,'r', encoding='UTF-8')\n",
    "        for line in SOfile:\n",
    "            if creationStr in line:\n",
    "                return line[17:27], file_name+'#'+sp1[1]\n",
    "\n",
    "        return \"2008-01-01\", file_name+'#'+sp1[1]\n",
    "\n",
    "    def readCommit(fileInfo):\n",
    "        sp1 = fileInfo.split('.')\n",
    "        fileIndex = int(sp1[0]) - 1\n",
    "        SOfile = open(fileName[fileIndex],'r', encoding='UTF-8')\n",
    "        line = SOfile.readline()\n",
    "        line1 = SOfile.readline()\n",
    "        line1 = SOfile.readline()\n",
    "        SOfile.close()\n",
    "        pretime = line[12:]\n",
    "        time = datetime.strptime(pretime, '%a %b %d %H:%M:%S CST %Y\\n').strftime('%Y-%m-%d')\n",
    "\n",
    "        return time,fileName[fileIndex]\n",
    "\n",
    "\n",
    "\n",
    "\n",
    "    file = open(r\"F:\\CCFinder\\NewAns\" + '\\\\' + project + \".txt\")\n",
    "    # allCommit = [0 for i in range(3)] #add delete update other\n",
    "    while 1:\n",
    "        line = file.readline()\n",
    "        if not line:\n",
    "            break\n",
    "\n",
    "        if line == 'source_files {\\n':\n",
    "            while 1:\n",
    "                fileLine = file.readline()\n",
    "                if fileLine == '}\\n':\n",
    "                    break\n",
    "                listName = fileLine.split('\\t')\n",
    "                fileName.append(listName[1])\n",
    "\n",
    "        if line == 'clone_pairs {\\n':\n",
    "            while 1:\n",
    "                PairsLine = file.readline()\n",
    "                if PairsLine == '}\\n':\n",
    "                    break\n",
    "                clonePairs.append(PairsLine)\n",
    "    file.close()\n",
    "    #--------------------------------------------------------------------------------------------------------------\n",
    "\n",
    "\n",
    "\n",
    "    for i in range(len(clonePairs)//2):\n",
    "\n",
    "        listPair = clonePairs[i].split('\\t')\n",
    "\n",
    "        time1, SOfile = readSO(listPair[1])\n",
    "        time2,Commitfile = readCommit(listPair[2])\n",
    "\n",
    "\n",
    "        if(time1 < time2):\n",
    "\n",
    "            if hashTable. __contains__(SOfile):\n",
    "                # hashTable[SOfile] = hashTable[SOfile] + 1\n",
    "                hashTable[SOfile][0] = hashTable[SOfile][0] + 1\n",
    "                # hashTable[SOfile].append(Commitfile.split('\\\\')[3])\n",
    "                hashTable[SOfile].append(Commitfile.split('\\\\')[3])\n",
    "            else:\n",
    "                # hashTable[SOfile] = 1\n",
    "                hashTable[SOfile].append(1)\n",
    "                # hashTable[SOfile].append(Commitfile.split('\\\\')[3])"
   ],
   "metadata": {
    "collapsed": false,
    "pycharm": {
     "name": "#%%\n"
    }
   }
  },
  {
   "cell_type": "code",
   "execution_count": 7,
   "outputs": [],
   "source": [
    "so_df = pd.DataFrame(columns=['so_file','nums'])\n",
    "so_df['so_file'] = list(hashTable.keys())\n",
    "# so_df['nums'] = list(hashTable.values())\n",
    "temp_series = pd.Series(list(hashTable.values()))\n",
    "so_df['nums'] = temp_series.apply(lambda x: x[0])\n",
    "so_df['prj'] = temp_series.apply(lambda x: x[1:])\n",
    "so_df.to_excel('./nums of SO is hit.xlsx')"
   ],
   "metadata": {
    "collapsed": false,
    "pycharm": {
     "name": "#%%\n"
    }
   }
  },
  {
   "cell_type": "code",
   "execution_count": 9,
   "outputs": [
    {
     "data": {
      "text/plain": "0     [2, APIJSON, APIJSON]\n1              [1, APIJSON]\n2     [2, APIJSON, APIJSON]\n3              [1, APIJSON]\n4              [1, APIJSON]\n5              [1, APIJSON]\n6              [1, APIJSON]\n7              [1, APIJSON]\n8     [2, APIJSON, APIJSON]\n9              [1, APIJSON]\n10             [1, APIJSON]\n11             [1, APIJSON]\n12             [1, APIJSON]\n13             [1, APIJSON]\n14             [1, APIJSON]\n15             [1, APIJSON]\n16             [1, APIJSON]\n17             [1, APIJSON]\n18             [1, APIJSON]\n19             [1, APIJSON]\n20    [2, APIJSON, APIJSON]\n21             [1, APIJSON]\n22             [1, APIJSON]\n23    [2, APIJSON, APIJSON]\n24    [2, APIJSON, APIJSON]\n25             [1, APIJSON]\n26             [1, APIJSON]\n27             [1, APIJSON]\n28    [2, APIJSON, APIJSON]\n29             [1, APIJSON]\n30             [1, APIJSON]\n31             [1, APIJSON]\n32             [1, APIJSON]\n33             [1, APIJSON]\n34             [1, APIJSON]\n35             [1, APIJSON]\n36             [1, APIJSON]\n37             [1, APIJSON]\n38             [1, APIJSON]\n39             [1, APIJSON]\n40             [1, APIJSON]\n41             [1, APIJSON]\n42             [1, APIJSON]\n43             [1, APIJSON]\n44             [1, APIJSON]\n45             [1, APIJSON]\n46             [1, APIJSON]\n47             [1, APIJSON]\n48             [1, APIJSON]\n49             [1, APIJSON]\n50             [1, APIJSON]\n51             [1, APIJSON]\n52             [1, APIJSON]\n53             [1, APIJSON]\n54             [1, APIJSON]\n55             [1, APIJSON]\ndtype: object"
     },
     "execution_count": 9,
     "metadata": {},
     "output_type": "execute_result"
    }
   ],
   "source": [
    "temp_series"
   ],
   "metadata": {
    "collapsed": false,
    "pycharm": {
     "name": "#%%\n"
    }
   }
  },
  {
   "cell_type": "code",
   "execution_count": 18,
   "outputs": [
    {
     "data": {
      "text/plain": "[26,\n 'AmazeFileManager',\n 'AmazeFileManager',\n 'Android-skin-support',\n 'Android-skin-support',\n 'DanmakuFlameMaster',\n 'FileDownloader',\n 'MPAndroidChart',\n 'MagicaSakura',\n 'MagicaSakura',\n 'PictureSelector',\n 'TwinklingRefreshLayout',\n 'TwinklingRefreshLayout',\n 'eureka',\n 'eureka',\n 'eureka',\n 'jadx',\n 'material',\n 'material',\n 'mockserver',\n 'mockserver',\n 'onedev',\n 'onedev',\n 'onedev',\n 'onedev',\n 'zeppelin',\n 'zeppelin']"
     },
     "execution_count": 18,
     "metadata": {},
     "output_type": "execute_result"
    }
   ],
   "source": [
    "x = list(hashTable.keys())[999]\n",
    "hashTable[x]"
   ],
   "metadata": {
    "collapsed": false,
    "pycharm": {
     "name": "#%%\n"
    }
   }
  },
  {
   "cell_type": "code",
   "execution_count": 21,
   "outputs": [
    {
     "data": {
      "text/plain": "0                                     [2, APIJSON, APIJSON]\n1                                              [1, APIJSON]\n2                  [3, APIJSON, APIJSON, MaterialViewPager]\n3                                              [1, APIJSON]\n4         [9, APIJSON, Guns, Guns, Guns, Guns, Guns, cim...\n                                ...                        \n134297                          [1, zxing-android-embedded]\n134298    [3, zxing-android-embedded, zxing-android-embe...\n134299                          [1, zxing-android-embedded]\n134300    [3, zxing-android-embedded, zxing-android-embe...\n134301    [3, zxing-android-embedded, zxing-android-embe...\nLength: 134302, dtype: object"
     },
     "execution_count": 21,
     "metadata": {},
     "output_type": "execute_result"
    }
   ],
   "source": [],
   "metadata": {
    "collapsed": false,
    "pycharm": {
     "name": "#%%\n"
    }
   }
  },
  {
   "cell_type": "code",
   "execution_count": 0,
   "outputs": [],
   "source": [],
   "metadata": {
    "collapsed": false,
    "pycharm": {
     "name": "#%%\n"
    }
   }
  },
  {
   "cell_type": "code",
   "execution_count": null,
   "outputs": [],
   "source": [
    "\n"
   ],
   "metadata": {
    "collapsed": false,
    "pycharm": {
     "name": "#%%\n"
    }
   }
  }
 ],
 "metadata": {
  "kernelspec": {
   "display_name": "Python 3",
   "language": "python",
   "name": "python3"
  },
  "language_info": {
   "codemirror_mode": {
    "name": "ipython",
    "version": 2
   },
   "file_extension": ".py",
   "mimetype": "text/x-python",
   "name": "python",
   "nbconvert_exporter": "python",
   "pygments_lexer": "ipython2",
   "version": "2.7.6"
  }
 },
 "nbformat": 4,
 "nbformat_minor": 0
}