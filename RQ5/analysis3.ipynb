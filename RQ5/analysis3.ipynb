{
 "cells": [
  {
   "cell_type": "code",
   "execution_count": 1,
   "metadata": {
    "collapsed": true
   },
   "outputs": [],
   "source": [
    "from datetime import datetime\n",
    "import time\n",
    "import os\n",
    "from tqdm import tqdm\n",
    "import pandas as pd\n",
    "\n"
   ]
  },
  {
   "cell_type": "code",
   "execution_count": 2,
   "outputs": [
    {
     "name": "stdout",
     "output_type": "stream",
     "text": [
      "<class 'pandas.core.frame.DataFrame'>\n",
      "RangeIndex: 134302 entries, 0 to 134301\n",
      "Data columns (total 5 columns):\n",
      " #   Column       Non-Null Count   Dtype \n",
      "---  ------       --------------   ----- \n",
      " 0   Unnamed: 0   134302 non-null  int64 \n",
      " 1   so_file      134302 non-null  object\n",
      " 2   nums         134302 non-null  int64 \n",
      " 3   涉及的项目        134302 non-null  object\n",
      " 4   SO_line_idx  134302 non-null  int64 \n",
      "dtypes: int64(3), object(2)\n",
      "memory usage: 5.1+ MB\n"
     ]
    },
    {
     "data": {
      "text/plain": "   Unnamed: 0                                          so_file  nums  \\\n0           0  F:\\CCFinder\\CodeData\\code_1225.java#21837-21866     2   \n1           1  F:\\CCFinder\\CodeData\\code_1376.java#34824-34850     1   \n\n                    涉及的项目  SO_line_idx  \n0  ['APIJSON', 'APIJSON']         6644  \n1             ['APIJSON']         8270  ",
      "text/html": "<div>\n<style scoped>\n    .dataframe tbody tr th:only-of-type {\n        vertical-align: middle;\n    }\n\n    .dataframe tbody tr th {\n        vertical-align: top;\n    }\n\n    .dataframe thead th {\n        text-align: right;\n    }\n</style>\n<table border=\"1\" class=\"dataframe\">\n  <thead>\n    <tr style=\"text-align: right;\">\n      <th></th>\n      <th>Unnamed: 0</th>\n      <th>so_file</th>\n      <th>nums</th>\n      <th>涉及的项目</th>\n      <th>SO_line_idx</th>\n    </tr>\n  </thead>\n  <tbody>\n    <tr>\n      <th>0</th>\n      <td>0</td>\n      <td>F:\\CCFinder\\CodeData\\code_1225.java#21837-21866</td>\n      <td>2</td>\n      <td>['APIJSON', 'APIJSON']</td>\n      <td>6644</td>\n    </tr>\n    <tr>\n      <th>1</th>\n      <td>1</td>\n      <td>F:\\CCFinder\\CodeData\\code_1376.java#34824-34850</td>\n      <td>1</td>\n      <td>['APIJSON']</td>\n      <td>8270</td>\n    </tr>\n  </tbody>\n</table>\n</div>"
     },
     "execution_count": 2,
     "metadata": {},
     "output_type": "execute_result"
    }
   ],
   "source": [
    "df = pd.read_excel('./nums of SO is hit.xlsx')\n",
    "df.info()\n",
    "df.head(2)\n"
   ],
   "metadata": {
    "collapsed": false,
    "pycharm": {
     "name": "#%%\n"
    }
   }
  },
  {
   "cell_type": "code",
   "execution_count": 3,
   "outputs": [
    {
     "name": "stderr",
     "output_type": "stream",
     "text": [
      "100%|██████████| 134302/134302 [07:21<00:00, 304.34it/s]\n"
     ]
    }
   ],
   "source": [
    "save_so_info = []\n",
    "\n",
    "for i in tqdm(range(len(df['so_file']))):\n",
    "    file_info = df['so_file'][i].split('#')\n",
    "    with open(file_info[0],'r',encoding='utf-8') as SOfile:\n",
    "        SO_line_list = SOfile.readlines()\n",
    "        so_line_idx = df['SO_line_idx'][i]\n",
    "\n",
    "        flag = 0\n",
    "        for k in range(so_line_idx-2, -1, -1):\n",
    "            if '//CreationDate =' in SO_line_list[k]:\n",
    "                save_so_info.append(SO_line_list[k])\n",
    "                flag = 1\n",
    "                break\n",
    "        if flag==0:\n",
    "            temp_split = file_info[0].split('_')\n",
    "            pre_so_file = temp_split[0]+'_'+str(int(temp_split[1].split('.')[0])-1)+'.java'\n",
    "            with open(pre_so_file, 'r',encoding='utf-8') as preSOfile:\n",
    "                preSO_line_list = preSOfile.readlines()\n",
    "                for j in range(len(preSO_line_list)-1, -1,-1):\n",
    "                    if '//CreationDate =' in preSO_line_list[j]:\n",
    "                        save_so_info.append(preSO_line_list[j])\n",
    "                        break\n"
   ],
   "metadata": {
    "collapsed": false,
    "pycharm": {
     "name": "#%%\n"
    }
   }
  },
  {
   "cell_type": "code",
   "execution_count": 5,
   "outputs": [
    {
     "data": {
      "text/plain": "134302"
     },
     "execution_count": 5,
     "metadata": {},
     "output_type": "execute_result"
    }
   ],
   "source": [
    "len(save_so_info)"
   ],
   "metadata": {
    "collapsed": false,
    "pycharm": {
     "name": "#%%\n"
    }
   }
  },
  {
   "cell_type": "code",
   "execution_count": 7,
   "outputs": [],
   "source": [
    "df['so_info'] = save_so_info\n",
    "df.to_excel('./nums of SO is hit.xlsx')"
   ],
   "metadata": {
    "collapsed": false,
    "pycharm": {
     "name": "#%%\n"
    }
   }
  },
  {
   "cell_type": "code",
   "execution_count": null,
   "outputs": [],
   "source": [],
   "metadata": {
    "collapsed": false,
    "pycharm": {
     "name": "#%%\n"
    }
   }
  },
  {
   "cell_type": "code",
   "execution_count": null,
   "outputs": [],
   "source": [
    "\n"
   ],
   "metadata": {
    "collapsed": false,
    "pycharm": {
     "name": "#%%\n"
    }
   }
  }
 ],
 "metadata": {
  "kernelspec": {
   "display_name": "Python 3",
   "language": "python",
   "name": "python3"
  },
  "language_info": {
   "codemirror_mode": {
    "name": "ipython",
    "version": 2
   },
   "file_extension": ".py",
   "mimetype": "text/x-python",
   "name": "python",
   "nbconvert_exporter": "python",
   "pygments_lexer": "ipython2",
   "version": "2.7.6"
  }
 },
 "nbformat": 4,
 "nbformat_minor": 0
}